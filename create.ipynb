{
 "cells": [
  {
   "cell_type": "code",
   "execution_count": 3,
   "metadata": {},
   "outputs": [],
   "source": [
    "#this code is to retrive the reviews from the .csv file and add it to the txt file\n",
    "\n",
    "import pandas as pd\n",
    "\n",
    "# Load the datasetDesktop\\chatbot\\\n",
    "df = pd.read_csv('Airline_review.csv',encoding='utf-8')\n",
    "\n",
    "# Open a text file to write reviews\n",
    "with open('data.txt', 'w',encoding='utf-8') as file:\n",
    "    # Iterate through each row and write the review to the text file\n",
    "    for review in df['Review']:\n",
    "        file.write(review + '\\n')\n"
   ]
  }
 ],
 "metadata": {
  "kernelspec": {
   "display_name": "Python 3",
   "language": "python",
   "name": "python3"
  },
  "language_info": {
   "codemirror_mode": {
    "name": "ipython",
    "version": 3
   },
   "file_extension": ".py",
   "mimetype": "text/x-python",
   "name": "python",
   "nbconvert_exporter": "python",
   "pygments_lexer": "ipython3",
   "version": "3.10.7"
  }
 },
 "nbformat": 4,
 "nbformat_minor": 2
}
